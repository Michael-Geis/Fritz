{
 "cells": [
  {
   "cell_type": "code",
   "execution_count": 11,
   "metadata": {},
   "outputs": [],
   "source": [
    "import importlib"
   ]
  },
  {
   "cell_type": "code",
   "execution_count": 18,
   "metadata": {},
   "outputs": [],
   "source": [
    "import pandas as pd\n",
    "\n",
    "pd.set_option(\"display.max_colwidth\", 0)"
   ]
  },
  {
   "cell_type": "code",
   "execution_count": 47,
   "metadata": {},
   "outputs": [
    {
     "data": {
      "text/plain": [
       "<module 'storage' from 'c:\\\\Users\\\\Leems\\\\Desktop\\\\Coding\\\\Projects\\\\Fritz\\\\storage.py'>"
      ]
     },
     "execution_count": 47,
     "metadata": {},
     "output_type": "execute_result"
    }
   ],
   "source": [
    "import embedding\n",
    "import storage\n",
    "from storage import ArXivData\n",
    "from cleaning import TextCleaner\n",
    "from embedding import Embedder\n",
    "from sentence_transformers import util\n",
    "\n",
    "importlib.reload(embedding)\n",
    "importlib.reload(storage)"
   ]
  },
  {
   "cell_type": "code",
   "execution_count": 39,
   "metadata": {},
   "outputs": [],
   "source": [
    "## Load library\n",
    "library_path = \"./data/APSP_50.feather\"\n",
    "path_to_library_embeddings = \"./data/allenai-specter_APSP_50_embeddings.feather\"\n",
    "\n",
    "library = ArXivData()\n",
    "library.load_from_feather(library_path)"
   ]
  },
  {
   "cell_type": "code",
   "execution_count": 40,
   "metadata": {},
   "outputs": [],
   "source": [
    "## Prepare the Library\n",
    "\n",
    "cleaner = TextCleaner()\n",
    "embedder = Embedder()\n",
    "\n",
    "clean_library = cleaner.transform(library)\n",
    "prepped_library = embedder.transform(\n",
    "    X=clean_library, load_from_file=True, path_to_embeddings=path_to_library_embeddings\n",
    ")"
   ]
  },
  {
   "cell_type": "code",
   "execution_count": 48,
   "metadata": {},
   "outputs": [],
   "source": [
    "## retrieve and pre-process the input\n",
    "\n",
    "input_id = \"1602.00730\"\n",
    "\n",
    "## create query string\n",
    "\n",
    "id_list = [input_id]\n",
    "\n",
    "input_article = ArXivData()\n",
    "input_article.load_from_id_list(id_list=id_list)"
   ]
  },
  {
   "cell_type": "code",
   "execution_count": 49,
   "metadata": {},
   "outputs": [
    {
     "name": "stderr",
     "output_type": "stream",
     "text": [
      "c:\\Users\\Leems\\Desktop\\Coding\\Projects\\Fritz\\cleaning.py:23: SettingWithCopyWarning: \n",
      "A value is trying to be set on a copy of a slice from a DataFrame\n",
      "\n",
      "See the caveats in the documentation: https://pandas.pydata.org/pandas-docs/stable/user_guide/indexing.html#returning-a-view-versus-a-copy\n",
      "  X.metadata.msc_tags[X.metadata.msc_tags.notna()] = X.metadata.msc_tags[\n",
      "Batches: 100%|██████████| 1/1 [00:00<00:00,  4.39it/s]\n"
     ]
    }
   ],
   "source": [
    "## Clean and process the input\n",
    "\n",
    "clean_input_article = cleaner.transform(input_article)\n",
    "prepped_input_article = embedder.transform(\n",
    "    X=clean_input_article,\n",
    "    model_name=\"allenai-specter\",\n",
    "    path_to_embeddings=\"./data/input_embedding.feather\",\n",
    ")"
   ]
  },
  {
   "cell_type": "code",
   "execution_count": 55,
   "metadata": {},
   "outputs": [],
   "source": [
    "## Perform the search and return the closest matches\n",
    "\n",
    "matches = util.semantic_search(\n",
    "    query_embeddings=prepped_input_article.embeddings,\n",
    "    corpus_embeddings=prepped_library.embeddings,\n",
    "    top_k=5,\n",
    ")"
   ]
  },
  {
   "cell_type": "code",
   "execution_count": 57,
   "metadata": {},
   "outputs": [],
   "source": [
    "indices = [dict[\"corpus_id\"] for dict in matches[0]]"
   ]
  },
  {
   "cell_type": "code",
   "execution_count": 59,
   "metadata": {},
   "outputs": [
    {
     "data": {
      "text/plain": [
       "[38787, 39127, 9786, 49609, 14857]"
      ]
     },
     "execution_count": 59,
     "metadata": {},
     "output_type": "execute_result"
    }
   ],
   "source": [
    "indices"
   ]
  },
  {
   "cell_type": "code",
   "execution_count": 60,
   "metadata": {},
   "outputs": [
    {
     "data": {
      "text/html": [
       "<div>\n",
       "<style scoped>\n",
       "    .dataframe tbody tr th:only-of-type {\n",
       "        vertical-align: middle;\n",
       "    }\n",
       "\n",
       "    .dataframe tbody tr th {\n",
       "        vertical-align: top;\n",
       "    }\n",
       "\n",
       "    .dataframe thead th {\n",
       "        text-align: right;\n",
       "    }\n",
       "</style>\n",
       "<table border=\"1\" class=\"dataframe\">\n",
       "  <thead>\n",
       "    <tr style=\"text-align: right;\">\n",
       "      <th></th>\n",
       "      <th>title</th>\n",
       "      <th>abstract</th>\n",
       "      <th>id</th>\n",
       "      <th>arxiv_subjects</th>\n",
       "      <th>msc_tags</th>\n",
       "      <th>doc_strings</th>\n",
       "    </tr>\n",
       "  </thead>\n",
       "  <tbody>\n",
       "    <tr>\n",
       "      <th>38787</th>\n",
       "      <td>C-infinity Scaling Asymptotics for the Spectral Function of the Laplacian</td>\n",
       "      <td>This article concerns new off-diagonal estimates on the remainder and its derivatives in the pointwise Weyl law on a compact n-dimensional Riemannian manifold. As an application, we prove that near any non self-focal point, the scaling limit of the spectral projector of the Laplacian onto frequency windows of constant size is a normalized Bessel function depending only on n.</td>\n",
       "      <td>1602.00730v1</td>\n",
       "      <td>[math.AP, math-ph, math.DG, math.FA, math.MP, math.SP]</td>\n",
       "      <td>None</td>\n",
       "      <td>C-infinity Scaling Asymptotics for the Spectral Function of the Laplacian This article concerns new off-diagonal estimates on the remainder and its derivatives in the pointwise Weyl law on a compact n-dimensional Riemannian manifold. As an application, we prove that near any non self-focal point, the scaling limit of the spectral projector of the Laplacian onto frequency windows of constant size is a normalized Bessel function depending only on n.</td>\n",
       "    </tr>\n",
       "    <tr>\n",
       "      <th>39127</th>\n",
       "      <td>Scaling Limit for the Kernel of the Spectral Projector and Remainder Estimates in the Pointwise Weyl Law</td>\n",
       "      <td>Let (M, g) be a compact smooth Riemannian manifold. We obtain new off-diagonal estimates as {ambda} tend to infinity for the remainder in the pointwise Weyl Law for the kernel of the spectral projector of the Laplacian onto functions with frequency at most {ambda}. A corollary is that, when rescaled around a non self-focal point, the kernel of the spectral projector onto the frequency interval (ambda, ambda + 1] has a universal scaling limit as {ambda} goes to infinity (depending only on the dimension of M). Our results also imply that if M has no conjugate points, then immersions of M into Euclidean space by an orthonormal basis of eigenfunctions with frequencies in (ambda, ambda + 1] are embeddings for all {ambda} sufficiently large.</td>\n",
       "      <td>1411.0658v3</td>\n",
       "      <td>[math.SP, math.AP, math.DG]</td>\n",
       "      <td>None</td>\n",
       "      <td>Scaling Limit for the Kernel of the Spectral Projector and Remainder Estimates in the Pointwise Weyl Law Let (M, g) be a compact smooth Riemannian manifold. We obtain new off-diagonal estimates as {ambda} tend to infinity for the remainder in the pointwise Weyl Law for the kernel of the spectral projector of the Laplacian onto functions with frequency at most {ambda}. A corollary is that, when rescaled around a non self-focal point, the kernel of the spectral projector onto the frequency interval (ambda, ambda + 1] has a universal scaling limit as {ambda} goes to infinity (depending only on the dimension of M). Our results also imply that if M has no conjugate points, then immersions of M into Euclidean space by an orthonormal basis of eigenfunctions with frequencies in (ambda, ambda + 1] are embeddings for all {ambda} sufficiently large.</td>\n",
       "    </tr>\n",
       "    <tr>\n",
       "      <th>9786</th>\n",
       "      <td>A logarithmic improvement in the two-point Weyl law for manifolds without conjugate points</td>\n",
       "      <td>In this paper, we study the two-point Weyl Law for the Laplace-Beltrami operator on a smooth, compact Riemannian manifold LATEX  with no conjugate points. That is, we find the asymptotic behavior of the Schwartz kernel, LATEX  of the projection operator from LATEX  onto the direct sum of eigenspaces with eigenvalue smaller than LATEX  as LATEX  In the regime where LATEX  are restricted to a compact neighborhood of the diagonal in LATEX  we obtain a uniform logarithmic improvement in the remainder of the asymptotic expansion for LATEX  and its derivatives of all orders, which generalizes a result of Berard, who treated the on-diagonal case LATEX  When LATEX  avoid a compact neighborhood of the diagonal, we obtain this same improvement in an upper bound for LATEX  Our results imply that the rescaled covariance kernel of a monochromatic random wave locally converges in the LATEX  topology to a universal scaling limit at an inverse logarithmic rate.</td>\n",
       "      <td>1905.05136v3</td>\n",
       "      <td>[math.AP, math.SP]</td>\n",
       "      <td>[Asymptotic distributions of eigenvalues in context of PDEs]</td>\n",
       "      <td>A logarithmic improvement in the two-point Weyl law for manifolds without conjugate points In this paper, we study the two-point Weyl Law for the Laplace-Beltrami operator on a smooth, compact Riemannian manifold LATEX  with no conjugate points. That is, we find the asymptotic behavior of the Schwartz kernel, LATEX  of the projection operator from LATEX  onto the direct sum of eigenspaces with eigenvalue smaller than LATEX  as LATEX  In the regime where LATEX  are restricted to a compact neighborhood of the diagonal in LATEX  we obtain a uniform logarithmic improvement in the remainder of the asymptotic expansion for LATEX  and its derivatives of all orders, which generalizes a result of Berard, who treated the on-diagonal case LATEX  When LATEX  avoid a compact neighborhood of the diagonal, we obtain this same improvement in an upper bound for LATEX  Our results imply that the rescaled covariance kernel of a monochromatic random wave locally converges in the LATEX  topology to a universal scaling limit at an inverse logarithmic rate.</td>\n",
       "    </tr>\n",
       "    <tr>\n",
       "      <th>49609</th>\n",
       "      <td>The blowup along the diagonal of the spectral function of the Laplacian</td>\n",
       "      <td>We formulate a precise conjecture about the universal behavior near the diagonal of the spectral function of the Laplacian of a smooth compact Riemann manifold. We prove this conjecture when the manifold and the metric are real analytic, and we also present an alternate proof when the manifold is the round sphere.</td>\n",
       "      <td>1103.1276v4</td>\n",
       "      <td>[math.DG, math-ph, math.AP, math.MP]</td>\n",
       "      <td>[Spectral problems; spectral geometry; scattering theory on manifolds, Second-order elliptic equations]</td>\n",
       "      <td>The blowup along the diagonal of the spectral function of the Laplacian We formulate a precise conjecture about the universal behavior near the diagonal of the spectral function of the Laplacian of a smooth compact Riemann manifold. We prove this conjecture when the manifold and the metric are real analytic, and we also present an alternate proof when the manifold is the round sphere.</td>\n",
       "    </tr>\n",
       "    <tr>\n",
       "      <th>14857</th>\n",
       "      <td>Growth of high LATEX  norms for eigenfunctions: an application of geodesic beams</td>\n",
       "      <td>This work concerns LATEX  norms of high energy Laplace eigenfunctions, LATEX  LATEX  In 1988, Sogge gave optimal estimates on the growth of LATEX  for a general compact Riemannian manifold. The goal of this article is to give general dynamical conditions guaranteeing quantitative improvements in LATEX  estimates for LATEX  where LATEX  is the critical exponent. We also apply previous results of the authors to obtain quantitative improvements in concrete geometric settings including all product manifolds. These are the first results improving estimates for the LATEX  growth of eigenfunctions that only require dynamical assumptions. In contrast with previous improvements, our assumptions are local in the sense that they depend only on the geodesics passing through a shrinking neighborhood of a given set in LATEX  Moreover, the article gives a structure theorem for eigenfunctions which saturate the quantitatively improved LATEX  bound. Modulo an error, the theorem describes these eigenfunctions as finite sums of quasimodes which, roughly, approximate zonal harmonics on the sphere scaled by LATEX</td>\n",
       "      <td>2003.04597v2</td>\n",
       "      <td>[math.AP, math.SP]</td>\n",
       "      <td>None</td>\n",
       "      <td>Growth of high LATEX  norms for eigenfunctions: an application of geodesic beams This work concerns LATEX  norms of high energy Laplace eigenfunctions, LATEX  LATEX  In 1988, Sogge gave optimal estimates on the growth of LATEX  for a general compact Riemannian manifold. The goal of this article is to give general dynamical conditions guaranteeing quantitative improvements in LATEX  estimates for LATEX  where LATEX  is the critical exponent. We also apply previous results of the authors to obtain quantitative improvements in concrete geometric settings including all product manifolds. These are the first results improving estimates for the LATEX  growth of eigenfunctions that only require dynamical assumptions. In contrast with previous improvements, our assumptions are local in the sense that they depend only on the geodesics passing through a shrinking neighborhood of a given set in LATEX  Moreover, the article gives a structure theorem for eigenfunctions which saturate the quantitatively improved LATEX  bound. Modulo an error, the theorem describes these eigenfunctions as finite sums of quasimodes which, roughly, approximate zonal harmonics on the sphere scaled by LATEX</td>\n",
       "    </tr>\n",
       "  </tbody>\n",
       "</table>\n",
       "</div>"
      ],
      "text/plain": [
       "                                                                                                          title  \\\n",
       "38787  C-infinity Scaling Asymptotics for the Spectral Function of the Laplacian                                  \n",
       "39127  Scaling Limit for the Kernel of the Spectral Projector and Remainder Estimates in the Pointwise Weyl Law   \n",
       "9786   A logarithmic improvement in the two-point Weyl law for manifolds without conjugate points                 \n",
       "49609  The blowup along the diagonal of the spectral function of the Laplacian                                    \n",
       "14857  Growth of high LATEX  norms for eigenfunctions: an application of geodesic beams                           \n",
       "\n",
       "                                                                                                                                                                                                                                                                                                                                                                                                                                                                                                                                                                                                                                                                                                                                                                                                                                                                                                                                                                                                                                                                                                                                                     abstract  \\\n",
       "38787  This article concerns new off-diagonal estimates on the remainder and its derivatives in the pointwise Weyl law on a compact n-dimensional Riemannian manifold. As an application, we prove that near any non self-focal point, the scaling limit of the spectral projector of the Laplacian onto frequency windows of constant size is a normalized Bessel function depending only on n.                                                                                                                                                                                                                                                                                                                                                                                                                                                                                                                                                                                                                                                                                                                                                                \n",
       "39127  Let (M, g) be a compact smooth Riemannian manifold. We obtain new off-diagonal estimates as {ambda} tend to infinity for the remainder in the pointwise Weyl Law for the kernel of the spectral projector of the Laplacian onto functions with frequency at most {ambda}. A corollary is that, when rescaled around a non self-focal point, the kernel of the spectral projector onto the frequency interval (ambda, ambda + 1] has a universal scaling limit as {ambda} goes to infinity (depending only on the dimension of M). Our results also imply that if M has no conjugate points, then immersions of M into Euclidean space by an orthonormal basis of eigenfunctions with frequencies in (ambda, ambda + 1] are embeddings for all {ambda} sufficiently large.                                                                                                                                                                                                                                                                                                                                                                                \n",
       "9786   In this paper, we study the two-point Weyl Law for the Laplace-Beltrami operator on a smooth, compact Riemannian manifold LATEX  with no conjugate points. That is, we find the asymptotic behavior of the Schwartz kernel, LATEX  of the projection operator from LATEX  onto the direct sum of eigenspaces with eigenvalue smaller than LATEX  as LATEX  In the regime where LATEX  are restricted to a compact neighborhood of the diagonal in LATEX  we obtain a uniform logarithmic improvement in the remainder of the asymptotic expansion for LATEX  and its derivatives of all orders, which generalizes a result of Berard, who treated the on-diagonal case LATEX  When LATEX  avoid a compact neighborhood of the diagonal, we obtain this same improvement in an upper bound for LATEX  Our results imply that the rescaled covariance kernel of a monochromatic random wave locally converges in the LATEX  topology to a universal scaling limit at an inverse logarithmic rate.                                                                                                                                                          \n",
       "49609  We formulate a precise conjecture about the universal behavior near the diagonal of the spectral function of the Laplacian of a smooth compact Riemann manifold. We prove this conjecture when the manifold and the metric are real analytic, and we also present an alternate proof when the manifold is the round sphere.                                                                                                                                                                                                                                                                                                                                                                                                                                                                                                                                                                                                                                                                                                                                                                                                                              \n",
       "14857  This work concerns LATEX  norms of high energy Laplace eigenfunctions, LATEX  LATEX  In 1988, Sogge gave optimal estimates on the growth of LATEX  for a general compact Riemannian manifold. The goal of this article is to give general dynamical conditions guaranteeing quantitative improvements in LATEX  estimates for LATEX  where LATEX  is the critical exponent. We also apply previous results of the authors to obtain quantitative improvements in concrete geometric settings including all product manifolds. These are the first results improving estimates for the LATEX  growth of eigenfunctions that only require dynamical assumptions. In contrast with previous improvements, our assumptions are local in the sense that they depend only on the geodesics passing through a shrinking neighborhood of a given set in LATEX  Moreover, the article gives a structure theorem for eigenfunctions which saturate the quantitatively improved LATEX  bound. Modulo an error, the theorem describes these eigenfunctions as finite sums of quasimodes which, roughly, approximate zonal harmonics on the sphere scaled by LATEX    \n",
       "\n",
       "                 id                                          arxiv_subjects  \\\n",
       "38787  1602.00730v1  [math.AP, math-ph, math.DG, math.FA, math.MP, math.SP]   \n",
       "39127  1411.0658v3   [math.SP, math.AP, math.DG]                              \n",
       "9786   1905.05136v3  [math.AP, math.SP]                                       \n",
       "49609  1103.1276v4   [math.DG, math-ph, math.AP, math.MP]                     \n",
       "14857  2003.04597v2  [math.AP, math.SP]                                       \n",
       "\n",
       "                                                                                                      msc_tags  \\\n",
       "38787  None                                                                                                      \n",
       "39127  None                                                                                                      \n",
       "9786   [Asymptotic distributions of eigenvalues in context of PDEs]                                              \n",
       "49609  [Spectral problems; spectral geometry; scattering theory on manifolds, Second-order elliptic equations]   \n",
       "14857  None                                                                                                      \n",
       "\n",
       "                                                                                                                                                                                                                                                                                                                                                                                                                                                                                                                                                                                                                                                                                                                                                                                                                                                                                                                                                                                                                                                                                                                                                                                                                                   doc_strings  \n",
       "38787  C-infinity Scaling Asymptotics for the Spectral Function of the Laplacian This article concerns new off-diagonal estimates on the remainder and its derivatives in the pointwise Weyl law on a compact n-dimensional Riemannian manifold. As an application, we prove that near any non self-focal point, the scaling limit of the spectral projector of the Laplacian onto frequency windows of constant size is a normalized Bessel function depending only on n.                                                                                                                                                                                                                                                                                                                                                                                                                                                                                                                                                                                                                                                                                                                                                                      \n",
       "39127  Scaling Limit for the Kernel of the Spectral Projector and Remainder Estimates in the Pointwise Weyl Law Let (M, g) be a compact smooth Riemannian manifold. We obtain new off-diagonal estimates as {ambda} tend to infinity for the remainder in the pointwise Weyl Law for the kernel of the spectral projector of the Laplacian onto functions with frequency at most {ambda}. A corollary is that, when rescaled around a non self-focal point, the kernel of the spectral projector onto the frequency interval (ambda, ambda + 1] has a universal scaling limit as {ambda} goes to infinity (depending only on the dimension of M). Our results also imply that if M has no conjugate points, then immersions of M into Euclidean space by an orthonormal basis of eigenfunctions with frequencies in (ambda, ambda + 1] are embeddings for all {ambda} sufficiently large.                                                                                                                                                                                                                                                                                                                                                       \n",
       "9786   A logarithmic improvement in the two-point Weyl law for manifolds without conjugate points In this paper, we study the two-point Weyl Law for the Laplace-Beltrami operator on a smooth, compact Riemannian manifold LATEX  with no conjugate points. That is, we find the asymptotic behavior of the Schwartz kernel, LATEX  of the projection operator from LATEX  onto the direct sum of eigenspaces with eigenvalue smaller than LATEX  as LATEX  In the regime where LATEX  are restricted to a compact neighborhood of the diagonal in LATEX  we obtain a uniform logarithmic improvement in the remainder of the asymptotic expansion for LATEX  and its derivatives of all orders, which generalizes a result of Berard, who treated the on-diagonal case LATEX  When LATEX  avoid a compact neighborhood of the diagonal, we obtain this same improvement in an upper bound for LATEX  Our results imply that the rescaled covariance kernel of a monochromatic random wave locally converges in the LATEX  topology to a universal scaling limit at an inverse logarithmic rate.                                                                                                                                               \n",
       "49609  The blowup along the diagonal of the spectral function of the Laplacian We formulate a precise conjecture about the universal behavior near the diagonal of the spectral function of the Laplacian of a smooth compact Riemann manifold. We prove this conjecture when the manifold and the metric are real analytic, and we also present an alternate proof when the manifold is the round sphere.                                                                                                                                                                                                                                                                                                                                                                                                                                                                                                                                                                                                                                                                                                                                                                                                                                      \n",
       "14857  Growth of high LATEX  norms for eigenfunctions: an application of geodesic beams This work concerns LATEX  norms of high energy Laplace eigenfunctions, LATEX  LATEX  In 1988, Sogge gave optimal estimates on the growth of LATEX  for a general compact Riemannian manifold. The goal of this article is to give general dynamical conditions guaranteeing quantitative improvements in LATEX  estimates for LATEX  where LATEX  is the critical exponent. We also apply previous results of the authors to obtain quantitative improvements in concrete geometric settings including all product manifolds. These are the first results improving estimates for the LATEX  growth of eigenfunctions that only require dynamical assumptions. In contrast with previous improvements, our assumptions are local in the sense that they depend only on the geodesics passing through a shrinking neighborhood of a given set in LATEX  Moreover, the article gives a structure theorem for eigenfunctions which saturate the quantitatively improved LATEX  bound. Modulo an error, the theorem describes these eigenfunctions as finite sums of quasimodes which, roughly, approximate zonal harmonics on the sphere scaled by LATEX   "
      ]
     },
     "execution_count": 60,
     "metadata": {},
     "output_type": "execute_result"
    }
   ],
   "source": [
    "## Retrieve indices\n",
    "\n",
    "prepped_library._returned_metadata.iloc[indices]"
   ]
  }
 ],
 "metadata": {
  "kernelspec": {
   "display_name": "Python 3",
   "language": "python",
   "name": "python3"
  },
  "language_info": {
   "codemirror_mode": {
    "name": "ipython",
    "version": 3
   },
   "file_extension": ".py",
   "mimetype": "text/x-python",
   "name": "python",
   "nbconvert_exporter": "python",
   "pygments_lexer": "ipython3",
   "version": "3.10.11"
  },
  "orig_nbformat": 4
 },
 "nbformat": 4,
 "nbformat_minor": 2
}
